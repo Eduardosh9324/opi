{
 "cells": [
  {
   "cell_type": "code",
   "execution_count": 26,
   "metadata": {},
   "outputs": [],
   "source": [
    "import pyspark\n",
    "from pyspark.sql import SparkSession\n",
    "from pyspark.sql.functions import rank, col\n",
    "from pyspark.sql.window import Window\n",
    "spark = SparkSession \\\n",
    "    .builder \\\n",
    "    .appName(\"Python Spark SQL Opi\") \\\n",
    "    .config(\"spark.some.config.option\", \"some-value\") \\\n",
    "    .getOrCreate()"
   ]
  },
  {
   "cell_type": "code",
   "execution_count": 2,
   "metadata": {},
   "outputs": [],
   "source": [
    "df = spark.read.csv(\"all_data.csv\",header=True)"
   ]
  },
  {
   "cell_type": "code",
   "execution_count": 3,
   "metadata": {},
   "outputs": [
    {
     "name": "stdout",
     "output_type": "stream",
     "text": [
      "+--------------------+--------------------+--------------------+--------------------+-----------------+------+--------------------+------------------+--------------------+--------------------+--------------------+----------------+--------------------+--------+----------+\n",
      "|            producto|        presentacion|               marca|           categoria|         catalogo|precio|       fechaRegistro|   cadenaComercial|                giro|     nombreComercial|           direccion|          estado|           municipio| latitud|  longitud|\n",
      "+--------------------+--------------------+--------------------+--------------------+-----------------+------+--------------------+------------------+--------------------+--------------------+--------------------+----------------+--------------------+--------+----------+\n",
      "|CUADERNO FORMA IT...|96 HOJAS PASTA DU...|            ESTRELLA|    MATERIAL ESCOLAR| UTILES ESCOLARES|  25.9|2011-05-18 00:00:...|ABASTECEDORA LUMEN|          PAPELERIAS|ABASTECEDORA LUME...|CANNES No. 6 ESQ....|DISTRITO FEDERAL|TLALPAN          ...|19.29699|-99.125417|\n",
      "|            CRAYONES|CAJA 12 CERAS. JU...|             CRAYOLA|    MATERIAL ESCOLAR| UTILES ESCOLARES|  27.5|2011-05-18 00:00:...|ABASTECEDORA LUMEN|          PAPELERIAS|ABASTECEDORA LUME...|CANNES No. 6 ESQ....|DISTRITO FEDERAL|TLALPAN          ...|19.29699|-99.125417|\n",
      "|            CRAYONES|CAJA 12 CERAS. TA...|             CRAYOLA|    MATERIAL ESCOLAR| UTILES ESCOLARES|  13.9|2011-05-18 00:00:...|ABASTECEDORA LUMEN|          PAPELERIAS|ABASTECEDORA LUME...|CANNES No. 6 ESQ....|DISTRITO FEDERAL|TLALPAN          ...|19.29699|-99.125417|\n",
      "|   COLORES DE MADERA|CAJA 12 PIEZAS LA...|            PINCELIN|    MATERIAL ESCOLAR| UTILES ESCOLARES|  46.9|2011-05-18 00:00:...|ABASTECEDORA LUMEN|          PAPELERIAS|ABASTECEDORA LUME...|CANNES No. 6 ESQ....|DISTRITO FEDERAL|TLALPAN          ...|19.29699|-99.125417|\n",
      "|         COLOR LARGO|CAJA 36 PIEZAS. C...|             CRAYOLA|    MATERIAL ESCOLAR| UTILES ESCOLARES|   115|2011-05-18 00:00:...|ABASTECEDORA LUMEN|          PAPELERIAS|ABASTECEDORA LUME...|CANNES No. 6 ESQ....|DISTRITO FEDERAL|TLALPAN          ...|19.29699|-99.125417|\n",
      "|           BOLIGRAFO|BLISTER 3 PIEZAS....|    BIC. CRISTAL GEL|    MATERIAL ESCOLAR| UTILES ESCOLARES|  32.5|2011-05-18 00:00:...|ABASTECEDORA LUMEN|          PAPELERIAS|ABASTECEDORA LUME...|CANNES No. 6 ESQ....|DISTRITO FEDERAL|TLALPAN          ...|19.29699|-99.125417|\n",
      "|      CINTA ADHESIVA|BOLSA 1 PIEZA. 12...|      SCOTCH 3M. 600|    MATERIAL ESCOLAR| UTILES ESCOLARES|     9|2011-05-18 00:00:...|ABASTECEDORA LUMEN|          PAPELERIAS|ABASTECEDORA LUME...|CANNES No. 6 ESQ....|DISTRITO FEDERAL|TLALPAN          ...|19.29699|-99.125417|\n",
      "|   COLORES DE MADERA|CAJA 24 PIEZAS. L...|      KORES. KOLORES|    MATERIAL ESCOLAR| UTILES ESCOLARES|  95.9|2011-05-18 00:00:...|ABASTECEDORA LUMEN|          PAPELERIAS|ABASTECEDORA LUME...|CANNES No. 6 ESQ....|DISTRITO FEDERAL|TLALPAN          ...|19.29699|-99.125417|\n",
      "|            CRAYONES|CAJA 24 CERAS. TA...|  PAPER MATE. CARMEN|    MATERIAL ESCOLAR| UTILES ESCOLARES|  23.2|2011-05-18 00:00:...|ABASTECEDORA LUMEN|          PAPELERIAS|ABASTECEDORA LUME...|CANNES No. 6 ESQ....|DISTRITO FEDERAL|TLALPAN          ...|19.29699|-99.125417|\n",
      "|  PAN BLANCO BOLILLO|               PIEZA|                 S/M|                 PAN|          BASICOS|   1.2|2011-01-10 00:00:...|COMERCIAL MEXICANA|TIENDA DE AUTOSER...|COMERCIAL MEXICAN...|AV. LAGO DE GUADA...|          MÉXICO|ATIZAPAN         ...|      NA|        NA|\n",
      "|    HARINA HOT CAKES|        CAJA 800 GR.|PRONTO TRADICIONALES|GALLETAS PASTAS Y...|          BASICOS| 21.63|2011-01-10 00:00:...|COMERCIAL MEXICANA|TIENDA DE AUTOSER...|COMERCIAL MEXICAN...|AV. LAGO DE GUADA...|          MÉXICO|ATIZAPAN         ...|      NA|        NA|\n",
      "|     PASTA PARA SOPA|PAQUETE 200 GR. S...|               VESTA|GALLETAS PASTAS Y...|          BASICOS|  3.45|2011-01-10 00:00:...|COMERCIAL MEXICANA|TIENDA DE AUTOSER...|COMERCIAL MEXICAN...|AV. LAGO DE GUADA...|          MÉXICO|ATIZAPAN         ...|      NA|        NA|\n",
      "|     GALLETAS DULCES|CAJA 652 GR. RICA...|              GAMESA|GALLETAS PASTAS Y...|          BASICOS| 21.77|2011-01-10 00:00:...|COMERCIAL MEXICANA|TIENDA DE AUTOSER...|COMERCIAL MEXICAN...|AV. LAGO DE GUADA...|          MÉXICO|ATIZAPAN         ...|      NA|        NA|\n",
      "|     GALLETAS DULCES|PAQUETE 280 GR. P...|            MARINELA|GALLETAS PASTAS Y...|          BASICOS|    13|2011-01-10 00:00:...|COMERCIAL MEXICANA|TIENDA DE AUTOSER...|COMERCIAL MEXICAN...|AV. LAGO DE GUADA...|          MÉXICO|ATIZAPAN         ...|      NA|        NA|\n",
      "|     GALLETAS DULCES|CAJA 752 GR. SAND...|             NABISCO|GALLETAS PASTAS Y...|          BASICOS| 41.97|2011-01-10 00:00:...|COMERCIAL MEXICANA|TIENDA DE AUTOSER...|COMERCIAL MEXICAN...|AV. LAGO DE GUADA...|          MÉXICO|ATIZAPAN         ...|      NA|        NA|\n",
      "|             SHAMPOO|BOTELLA 400 ML. P...|    HEAD & SHOULDERS|ARTS. PARA EL CUI...|          BASICOS|  49.9|2011-01-10 00:00:...|COMERCIAL MEXICANA|TIENDA DE AUTOSER...|COMERCIAL MEXICAN...|AV. LAGO DE GUADA...|          MÉXICO|ATIZAPAN         ...|      NA|        NA|\n",
      "| HORNO DE MICROONDAS|MS-1446 SQP O  MS...|                  LG| APARATOS ELECTRICOS|ELECTRODOMESTICOS|  1598|2011-01-10 00:00:...|COMERCIAL MEXICANA|TIENDA DE AUTOSER...|COMERCIAL MEXICAN...|AV. LAGO DE GUADA...|          MÉXICO|ATIZAPAN         ...|      NA|        NA|\n",
      "|ACONDICIONADOR Y ...|BOTELLA 300 ML. F...|             GARNIER|ARTS. PARA EL CUI...|          BASICOS|  39.9|2011-01-10 00:00:...|COMERCIAL MEXICANA|TIENDA DE AUTOSER...|COMERCIAL MEXICAN...|AV. LAGO DE GUADA...|          MÉXICO|ATIZAPAN         ...|      NA|        NA|\n",
      "|TINTE PARA EL CAB...|                CAJA|      REVITALIQUE. 4|ARTS. PARA EL CUI...|          BASICOS|    74|2011-01-10 00:00:...|COMERCIAL MEXICANA|TIENDA DE AUTOSER...|COMERCIAL MEXICAN...|AV. LAGO DE GUADA...|          MÉXICO|ATIZAPAN         ...|      NA|        NA|\n",
      "|TINTE PARA EL CAB...|                CAJA|  WELLA KOLESTON. 40|ARTS. PARA EL CUI...|          BASICOS|  58.9|2011-01-10 00:00:...|COMERCIAL MEXICANA|TIENDA DE AUTOSER...|COMERCIAL MEXICAN...|AV. LAGO DE GUADA...|          MÉXICO|ATIZAPAN         ...|      NA|        NA|\n",
      "+--------------------+--------------------+--------------------+--------------------+-----------------+------+--------------------+------------------+--------------------+--------------------+--------------------+----------------+--------------------+--------+----------+\n",
      "only showing top 20 rows\n",
      "\n"
     ]
    }
   ],
   "source": [
    "df.show()"
   ]
  },
  {
   "cell_type": "code",
   "execution_count": 4,
   "metadata": {},
   "outputs": [
    {
     "name": "stdout",
     "output_type": "stream",
     "text": [
      "root\n",
      " |-- producto: string (nullable = true)\n",
      " |-- presentacion: string (nullable = true)\n",
      " |-- marca: string (nullable = true)\n",
      " |-- categoria: string (nullable = true)\n",
      " |-- catalogo: string (nullable = true)\n",
      " |-- precio: string (nullable = true)\n",
      " |-- fechaRegistro: string (nullable = true)\n",
      " |-- cadenaComercial: string (nullable = true)\n",
      " |-- giro: string (nullable = true)\n",
      " |-- nombreComercial: string (nullable = true)\n",
      " |-- direccion: string (nullable = true)\n",
      " |-- estado: string (nullable = true)\n",
      " |-- municipio: string (nullable = true)\n",
      " |-- latitud: string (nullable = true)\n",
      " |-- longitud: string (nullable = true)\n",
      "\n"
     ]
    }
   ],
   "source": [
    "df.printSchema()"
   ]
  },
  {
   "cell_type": "code",
   "execution_count": 5,
   "metadata": {},
   "outputs": [
    {
     "data": {
      "text/plain": [
       "62530715"
      ]
     },
     "execution_count": 5,
     "metadata": {},
     "output_type": "execute_result"
    }
   ],
   "source": [
    "df.count()"
   ]
  },
  {
   "cell_type": "code",
   "execution_count": 7,
   "metadata": {},
   "outputs": [
    {
     "name": "stdout",
     "output_type": "stream",
     "text": [
      "+--------------------+\n",
      "|           categoria|\n",
      "+--------------------+\n",
      "|    MATERIAL ESCOLAR|\n",
      "|ARTS. PARA EL CUI...|\n",
      "|PESCADOS Y MARISC...|\n",
      "|UTENSILIOS DOMEST...|\n",
      "|           categoria|\n",
      "|DETERGENTES Y PRO...|\n",
      "|CARNE Y VISCERAS ...|\n",
      "|PRODUCTOS DE TEMP...|\n",
      "|GALLETAS PASTAS Y...|\n",
      "|  HORTALIZAS FRESCAS|\n",
      "|                null|\n",
      "|  DERIVADOS DE LECHE|\n",
      "|TORTILLAS Y DERIV...|\n",
      "|GRASAS ANIMALES C...|\n",
      "|APARATOS ELECTRON...|\n",
      "|     LEGUMBRES SECAS|\n",
      "|                CAFE|\n",
      "|   MUEBLES DE COCINA|\n",
      "|CARNES FRIAS SECA...|\n",
      "|CHOCOLATES Y GOLO...|\n",
      "+--------------------+\n",
      "only showing top 20 rows\n",
      "\n"
     ]
    }
   ],
   "source": [
    "df.select(\"categoria\").distinct().show()"
   ]
  },
  {
   "cell_type": "code",
   "execution_count": 8,
   "metadata": {},
   "outputs": [
    {
     "data": {
      "text/plain": [
       "42"
      ]
     },
     "execution_count": 8,
     "metadata": {},
     "output_type": "execute_result"
    }
   ],
   "source": [
    "df.select(\"categoria\").distinct().count()"
   ]
  },
  {
   "cell_type": "code",
   "execution_count": 10,
   "metadata": {},
   "outputs": [
    {
     "data": {
      "text/plain": [
       "706"
      ]
     },
     "execution_count": 10,
     "metadata": {},
     "output_type": "execute_result"
    }
   ],
   "source": [
    "df.select(\"cadenaComercial\").distinct().count()"
   ]
  },
  {
   "cell_type": "code",
   "execution_count": 18,
   "metadata": {},
   "outputs": [],
   "source": [
    "conteo_productos_estado = df.groupBy(\"estado\",\"producto\").count()"
   ]
  },
  {
   "cell_type": "code",
   "execution_count": 19,
   "metadata": {},
   "outputs": [
    {
     "name": "stdout",
     "output_type": "stream",
     "text": [
      "+--------------------+--------------------+-----+\n",
      "|              estado|            producto|count|\n",
      "+--------------------+--------------------+-----+\n",
      "|              MÉXICO|TINTE PARA EL CAB...|44007|\n",
      "|              MÉXICO|         TELEVISORES|29702|\n",
      "|              MÉXICO|              ACELGA| 7691|\n",
      "|              MÉXICO|       QUESO. COTIJA| 4414|\n",
      "|    DISTRITO FEDERAL|              AZUCAR|18078|\n",
      "|              MÉXICO|      DESENFRIOL-ITO|  642|\n",
      "|             JALISCO|               ARROZ|11735|\n",
      "|              OAXACA|PEDIALYTE. ELECTR...|  302|\n",
      "|            TLAXCALA|        AGUA SIN GAS|14505|\n",
      "|VERACRUZ DE IGNAC...|              TOMATE|  652|\n",
      "| MICHOACÁN DE OCAMPO|         PAN DE CAJA|13003|\n",
      "|             YUCATÁN|       FLAGENASE 400|  313|\n",
      "| MICHOACÁN DE OCAMPO|              ECTIVA|   39|\n",
      "|             YUCATÁN|        SALSA CATSUP| 6549|\n",
      "|             YUCATÁN|            CLAVULIN|  183|\n",
      "|             YUCATÁN|            CAPOTENA|  271|\n",
      "|             JALISCO|       FLAGENASE 400|  699|\n",
      "|             HIDALGO|              VERMOX|  121|\n",
      "|              OAXACA|       MAIZ POZOLERO| 1387|\n",
      "|              OAXACA|                 AJO|  783|\n",
      "+--------------------+--------------------+-----+\n",
      "only showing top 20 rows\n",
      "\n"
     ]
    }
   ],
   "source": [
    "conteo_productos_estado.show()"
   ]
  },
  {
   "cell_type": "code",
   "execution_count": 29,
   "metadata": {},
   "outputs": [
    {
     "name": "stdout",
     "output_type": "stream",
     "text": [
      "+--------------------+--------------------+-----+----+\n",
      "|              estado|            producto|count|rank|\n",
      "+--------------------+--------------------+-----+----+\n",
      "|        QUINTANA ROO|                 FUD|34846|   1|\n",
      "|        QUINTANA ROO|            REFRESCO|34367|   2|\n",
      "|          NUEVO LEÓN|   DETERGENTE P/ROPA|50307|   1|\n",
      "|          NUEVO LEÓN|            REFRESCO|49592|   2|\n",
      "|             SINALOA|            REFRESCO|33115|   1|\n",
      "|             SINALOA|   DETERGENTE P/ROPA|27177|   2|\n",
      "|             TABASCO|            REFRESCO|28754|   1|\n",
      "|             TABASCO|   DETERGENTE P/ROPA|26431|   2|\n",
      "|     BAJA CALIFORNIA|            REFRESCO|37243|   1|\n",
      "|     BAJA CALIFORNIA|   DETERGENTE P/ROPA|23395|   2|\n",
      "|            TLAXCALA|            REFRESCO|43904|   1|\n",
      "|            TLAXCALA|   DETERGENTE P/ROPA|41398|   2|\n",
      "|COAHUILA DE ZARAGOZA|                 FUD|28613|   1|\n",
      "|COAHUILA DE ZARAGOZA|            REFRESCO|26889|   2|\n",
      "|                null|LECHE ULTRAPASTEU...|  804|   1|\n",
      "|                null|            REFRESCO|  553|   2|\n",
      "|       ESQ. SUR 125\"|  PAN BLANCO BOLILLO|  130|   1|\n",
      "|       ESQ. SUR 125\"|    TORTILLA DE MAIZ|    2|   2|\n",
      "| COL. EDUARDO GUERRA|            REFRESCO|  275|   1|\n",
      "| COL. EDUARDO GUERRA|    JABON DE TOCADOR|  270|   2|\n",
      "+--------------------+--------------------+-----+----+\n",
      "only showing top 20 rows\n",
      "\n"
     ]
    }
   ],
   "source": [
    "window = Window.partitionBy(conteo_productos_estado['estado']).orderBy(conteo_productos_estado['count'].desc())\n",
    "conteo_productos_estado.select('*', rank().over(window).alias('rank')).filter(col('rank') <= 2).show() "
   ]
  },
  {
   "cell_type": "code",
   "execution_count": 47,
   "metadata": {},
   "outputs": [],
   "source": [
    "df.createOrReplaceTempView(\"all_data\")"
   ]
  },
  {
   "cell_type": "code",
   "execution_count": 67,
   "metadata": {
    "scrolled": true
   },
   "outputs": [
    {
     "name": "stdout",
     "output_type": "stream",
     "text": [
      "+--------------------+--------------------+-------------+\n",
      "|     cadenaComercial|            producto|numberProduct|\n",
      "+--------------------+--------------------+-------------+\n",
      "|TORTILLERIAS TRAD...|    TORTILLA DE MAIZ|       206950|\n",
      "|            WAL-MART|            REFRESCO|       182066|\n",
      "|      BODEGA AURRERA|            REFRESCO|       173538|\n",
      "|      BODEGA AURRERA|                 FUD|       136876|\n",
      "|            WAL-MART|   DETERGENTE P/ROPA|       134237|\n",
      "|            WAL-MART|                 FUD|       129023|\n",
      "|             SORIANA|            REFRESCO|       128758|\n",
      "|             SORIANA|                 FUD|       120610|\n",
      "|            WAL-MART|LECHE ULTRAPASTEU...|       118766|\n",
      "|             SORIANA|   DETERGENTE P/ROPA|       116610|\n",
      "|      BODEGA AURRERA|LECHE ULTRAPASTEU...|       115742|\n",
      "|            WAL-MART|    JABON DE TOCADOR|       107971|\n",
      "|            WAL-MART|             YOGHURT|       104072|\n",
      "|            WAL-MART|             CERVEZA|       102961|\n",
      "|            WAL-MART|         DESODORANTE|       102042|\n",
      "|            WAL-MART|             SHAMPOO|       101301|\n",
      "|            WAL-MART|      CHILES EN LATA|       100236|\n",
      "|MEGA COMERCIAL ME...|            REFRESCO|        98946|\n",
      "|      BODEGA AURRERA|             SHAMPOO|        98942|\n",
      "|            WAL-MART|            MAYONESA|        97702|\n",
      "+--------------------+--------------------+-------------+\n",
      "only showing top 20 rows\n",
      "\n"
     ]
    }
   ],
   "source": [
    "sqlDF = spark.sql(\"SELECT cadenaComercial, producto, COUNT(*) AS numberProduct FROM all_data GROUP BY cadenaComercial, producto ORDER BY numberProduct desc\")\n",
    "sqlDF.show()"
   ]
  },
  {
   "cell_type": "code",
   "execution_count": 77,
   "metadata": {},
   "outputs": [
    {
     "name": "stdout",
     "output_type": "stream",
     "text": [
      "+--------------------+--------------+\n",
      "|     cadenaComercial|numberProducts|\n",
      "+--------------------+--------------+\n",
      "|             SORIANA|          1059|\n",
      "|            WAL-MART|          1051|\n",
      "|MEGA COMERCIAL ME...|          1049|\n",
      "|  COMERCIAL MEXICANA|          1036|\n",
      "|            CHEDRAUI|          1026|\n",
      "|     MERCADO SORIANA|          1024|\n",
      "|      BODEGA AURRERA|          1012|\n",
      "|HIPERMERCADO SORIANA|          1006|\n",
      "|              H.E.B.|          1001|\n",
      "|        SORIANA PLUS|           999|\n",
      "|       SORIANA SUPER|           996|\n",
      "|BODEGA COMERCIAL ...|           979|\n",
      "|        I.S.S.S.T.E.|           937|\n",
      "|            SUPERAMA|           936|\n",
      "|              S MART|           851|\n",
      "|SUPERMERCADOS SAN...|           849|\n",
      "|              SUMESA|           848|\n",
      "|         CITY MARKET|           844|\n",
      "|FARMACIA GUADALAJARA|           819|\n",
      "|            CASA LEY|           808|\n",
      "+--------------------+--------------+\n",
      "only showing top 20 rows\n",
      "\n"
     ]
    }
   ],
   "source": [
    "sqlDF.createOrReplaceTempView(\"sqlDF\")\n",
    "cadna_conMasProductos = spark.sql('SELECT cadenaComercial, COUNT(DISTINCT(producto)) AS numberProducts FROM sqlDF GROUP BY cadenaComercial ORDER BY numberProducts desc')\n",
    "cadna_conMasProductos.show()"
   ]
  }
 ],
 "metadata": {
  "kernelspec": {
   "display_name": "Python 3",
   "language": "python",
   "name": "python3"
  },
  "language_info": {
   "codemirror_mode": {
    "name": "ipython",
    "version": 3
   },
   "file_extension": ".py",
   "mimetype": "text/x-python",
   "name": "python",
   "nbconvert_exporter": "python",
   "pygments_lexer": "ipython3",
   "version": "3.7.3"
  }
 },
 "nbformat": 4,
 "nbformat_minor": 2
}
